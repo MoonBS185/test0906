{
 "cells": [
  {
   "cell_type": "code",
   "execution_count": 1,
   "id": "72116886-e4b8-4db0-8b1c-735227bec2e4",
   "metadata": {},
   "outputs": [],
   "source": [
    "import pandas as pd"
   ]
  },
  {
   "cell_type": "markdown",
   "id": "44dc3627-3aff-4444-83cf-7c699ec03c8d",
   "metadata": {},
   "source": [
    "# 휴게 음식점 데이터를 바탕으로 상위 매출 프랜차이저 6개 카페의 데이터를 추출 "
   ]
  },
  {
   "cell_type": "code",
   "execution_count": 6,
   "id": "8bbaa17b-0519-441a-93bc-de3e13a8d9cb",
   "metadata": {},
   "outputs": [],
   "source": [
    "hu = pd.read_csv('6270000_대구광역시_07_24_05_P_휴게음식점.csv',encoding = 'cp949') # 데이터 불러오는 곳 수정 필요 "
   ]
  },
  {
   "cell_type": "code",
   "execution_count": 8,
   "id": "af3c5302-4087-45c3-9090-a6d5e814ca0a",
   "metadata": {},
   "outputs": [],
   "source": [
    "# 필터링 조건 설정\n",
    "keywords = ['스타벅스', '투썸플', '컴포즈','빽다방','이디야','메가커']\n",
    "\n",
    "# 데이터 프레임 필터링\n",
    "big_ca = hu[hu['사업장명'].str.contains('|'.join(keywords))]"
   ]
  },
  {
   "cell_type": "code",
   "execution_count": 10,
   "id": "f12ae36f-d850-4c90-94bc-f978af693021",
   "metadata": {},
   "outputs": [
    {
     "data": {
      "text/plain": [
       "Index(['번호', '개방서비스명', '개방서비스아이디', '개방자치단체코드', '관리번호', '인허가일자', '인허가취소일자',\n",
       "       '영업상태구분코드', '영업상태명', '상세영업상태코드', '상세영업상태명', '폐업일자', '휴업시작일자', '휴업종료일자',\n",
       "       '재개업일자', '소재지전화', '소재지면적', '소재지우편번호', '소재지전체주소', '도로명전체주소', '도로명우편번호',\n",
       "       '사업장명', '최종수정시점', '데이터갱신구분', '데이터갱신일자', '업태구분명', '좌표정보(x)', '좌표정보(y)',\n",
       "       '위생업태명', '남성종사자수', '여성종사자수', '영업장주변구분명', '등급구분명', '급수시설구분명', '총직원수',\n",
       "       '본사직원수', '공장사무직직원수', '공장판매직직원수', '공장생산직직원수', '건물소유구분명', '보증액', '월세액',\n",
       "       '다중이용업소여부', '시설총규모', '전통업소지정번호', '전통업소주된음식', '홈페이지', 'Unnamed: 47'],\n",
       "      dtype='object')"
      ]
     },
     "execution_count": 10,
     "metadata": {},
     "output_type": "execute_result"
    }
   ],
   "source": [
    "big_ca.columns"
   ]
  },
  {
   "cell_type": "code",
   "execution_count": 12,
   "id": "0a142daa-9973-46ab-bdb5-76c00238341a",
   "metadata": {},
   "outputs": [],
   "source": [
    "big_ca = big_ca[['번호','사업장명','좌표정보(x)','좌표정보(y)']]"
   ]
  },
  {
   "cell_type": "code",
   "execution_count": 16,
   "id": "2583905f-521c-4677-869c-ed9a095cae58",
   "metadata": {},
   "outputs": [
    {
     "data": {
      "text/plain": [
       "번호         0\n",
       "사업장명       0\n",
       "좌표정보(x)    8\n",
       "좌표정보(y)    8\n",
       "dtype: int64"
      ]
     },
     "execution_count": 16,
     "metadata": {},
     "output_type": "execute_result"
    }
   ],
   "source": [
    "big_ca.isnull().sum()"
   ]
  },
  {
   "cell_type": "code",
   "execution_count": 22,
   "id": "82c6cb68-176f-4cec-9b9c-82367566fbbb",
   "metadata": {},
   "outputs": [],
   "source": [
    "big_ca.dropna(subset = '좌표정보(x)',inplace = True)"
   ]
  },
  {
   "cell_type": "code",
   "execution_count": 24,
   "id": "f5a86cf4-5cef-47a5-a77f-1e1c4d92c7c8",
   "metadata": {},
   "outputs": [
    {
     "data": {
      "text/plain": [
       "번호         0\n",
       "사업장명       0\n",
       "좌표정보(x)    0\n",
       "좌표정보(y)    0\n",
       "dtype: int64"
      ]
     },
     "execution_count": 24,
     "metadata": {},
     "output_type": "execute_result"
    }
   ],
   "source": [
    "big_ca.isnull().sum()"
   ]
  },
  {
   "cell_type": "code",
   "execution_count": 26,
   "id": "a7894cc3-696f-4f08-be35-ab5f09a7d6ee",
   "metadata": {},
   "outputs": [],
   "source": [
    "big_ca.to_csv('big_cafe.csv', index = False, encoding = 'EUC-KR')"
   ]
  },
  {
   "cell_type": "code",
   "execution_count": null,
   "id": "cb1cb896-13a7-4924-9aab-0a6aef3e674b",
   "metadata": {},
   "outputs": [],
   "source": []
  }
 ],
 "metadata": {
  "kernelspec": {
   "display_name": "Python 3 (ipykernel)",
   "language": "python",
   "name": "python3"
  },
  "language_info": {
   "codemirror_mode": {
    "name": "ipython",
    "version": 3
   },
   "file_extension": ".py",
   "mimetype": "text/x-python",
   "name": "python",
   "nbconvert_exporter": "python",
   "pygments_lexer": "ipython3",
   "version": "3.11.7"
  }
 },
 "nbformat": 4,
 "nbformat_minor": 5
}
